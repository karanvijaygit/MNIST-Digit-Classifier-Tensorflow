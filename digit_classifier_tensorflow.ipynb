{
  "nbformat": 4,
  "nbformat_minor": 0,
  "metadata": {
    "colab": {
      "name": "digit_classifier_tensorflow.ipynb",
      "provenance": [],
      "collapsed_sections": []
    },
    "kernelspec": {
      "name": "python3",
      "display_name": "Python 3"
    }
  },
  "cells": [
    {
      "cell_type": "code",
      "metadata": {
        "id": "zK-HvHlZlTqV",
        "colab_type": "code",
        "colab": {}
      },
      "source": [
        "import numpy as np\n",
        "import pandas as pd\n",
        "import matplotlib.pyplot as plt\n",
        "import tensorflow as tf\n"
      ],
      "execution_count": null,
      "outputs": []
    },
    {
      "cell_type": "code",
      "metadata": {
        "id": "MepZvwcilktP",
        "colab_type": "code",
        "colab": {}
      },
      "source": [
        "lr = 1e-04\n",
        "train_iter = 10\n",
        "dropout = 0.5\n",
        "bat_size = 50 \n",
        "val_size = 2000\n",
        "img_idx = 10\n",
        " "
      ],
      "execution_count": null,
      "outputs": []
    },
    {
      "cell_type": "code",
      "metadata": {
        "id": "io95Ck-Yl9Eb",
        "colab_type": "code",
        "colab": {}
      },
      "source": [
        "df = pd.read_csv('/content/mnist_train.csv')"
      ],
      "execution_count": null,
      "outputs": []
    },
    {
      "cell_type": "code",
      "metadata": {
        "id": "P0psSBiYri_p",
        "colab_type": "code",
        "colab": {
          "base_uri": "https://localhost:8080/",
          "height": 34
        },
        "outputId": "41acab71-0aeb-43f6-aeb3-50d9bbd28123"
      },
      "source": [
        "df.head()\n",
        "df.shape"
      ],
      "execution_count": null,
      "outputs": [
        {
          "output_type": "execute_result",
          "data": {
            "text/plain": [
              "(60000, 785)"
            ]
          },
          "metadata": {
            "tags": []
          },
          "execution_count": 8
        }
      ]
    },
    {
      "cell_type": "code",
      "metadata": {
        "id": "jZ4b4yMJrx9f",
        "colab_type": "code",
        "colab": {
          "base_uri": "https://localhost:8080/",
          "height": 136
        },
        "outputId": "1cdcabb4-b2ca-4a63-9810-dd1df2224ff2"
      },
      "source": [
        "\n",
        "# IMAGE DATA\n",
        "image = df.iloc[:,1:].values\n",
        "image.astype(np.float)"
      ],
      "execution_count": null,
      "outputs": [
        {
          "output_type": "execute_result",
          "data": {
            "text/plain": [
              "array([[0., 0., 0., ..., 0., 0., 0.],\n",
              "       [0., 0., 0., ..., 0., 0., 0.],\n",
              "       [0., 0., 0., ..., 0., 0., 0.],\n",
              "       ...,\n",
              "       [0., 0., 0., ..., 0., 0., 0.],\n",
              "       [0., 0., 0., ..., 0., 0., 0.],\n",
              "       [0., 0., 0., ..., 0., 0., 0.]])"
            ]
          },
          "metadata": {
            "tags": []
          },
          "execution_count": 9
        }
      ]
    },
    {
      "cell_type": "code",
      "metadata": {
        "id": "wcGeR6NEsi20",
        "colab_type": "code",
        "colab": {
          "base_uri": "https://localhost:8080/",
          "height": 34
        },
        "outputId": "25e4988e-df88-4e7f-f44b-0a58a1836e1b"
      },
      "source": [
        "image.shape"
      ],
      "execution_count": null,
      "outputs": [
        {
          "output_type": "execute_result",
          "data": {
            "text/plain": [
              "(60000, 784)"
            ]
          },
          "metadata": {
            "tags": []
          },
          "execution_count": 10
        }
      ]
    },
    {
      "cell_type": "code",
      "metadata": {
        "id": "PEzNM8vesrMY",
        "colab_type": "code",
        "colab": {
          "base_uri": "https://localhost:8080/",
          "height": 34
        },
        "outputId": "8d1ce0ec-89c9-4b09-c5d7-94a922e52081"
      },
      "source": [
        "type(image)"
      ],
      "execution_count": null,
      "outputs": [
        {
          "output_type": "execute_result",
          "data": {
            "text/plain": [
              "numpy.ndarray"
            ]
          },
          "metadata": {
            "tags": []
          },
          "execution_count": 11
        }
      ]
    },
    {
      "cell_type": "code",
      "metadata": {
        "id": "xJD_KFtKstpE",
        "colab_type": "code",
        "colab": {}
      },
      "source": [
        "image = np.multiply(image,1.0/255.0)"
      ],
      "execution_count": null,
      "outputs": []
    },
    {
      "cell_type": "code",
      "metadata": {
        "id": "0S0CPjhg7-Ta",
        "colab_type": "code",
        "colab": {}
      },
      "source": [
        "img_wid = img_dep = np.ceil(np.sqrt(image.shape[1])).astype(np.uint)"
      ],
      "execution_count": null,
      "outputs": []
    },
    {
      "cell_type": "code",
      "metadata": {
        "id": "a1_ScWaC9LVh",
        "colab_type": "code",
        "colab": {
          "base_uri": "https://localhost:8080/",
          "height": 34
        },
        "outputId": "7a9483ba-04e2-4636-abd9-94d577e396c5"
      },
      "source": [
        "img_wid"
      ],
      "execution_count": null,
      "outputs": [
        {
          "output_type": "execute_result",
          "data": {
            "text/plain": [
              "28"
            ]
          },
          "metadata": {
            "tags": []
          },
          "execution_count": 14
        }
      ]
    },
    {
      "cell_type": "code",
      "metadata": {
        "id": "O4wSYMKY9Mw2",
        "colab_type": "code",
        "colab": {
          "base_uri": "https://localhost:8080/",
          "height": 34
        },
        "outputId": "96c7ce3d-7637-4fc7-99cd-93db57a91a5a"
      },
      "source": [
        "img_dep"
      ],
      "execution_count": null,
      "outputs": [
        {
          "output_type": "execute_result",
          "data": {
            "text/plain": [
              "28"
            ]
          },
          "metadata": {
            "tags": []
          },
          "execution_count": 15
        }
      ]
    },
    {
      "cell_type": "code",
      "metadata": {
        "id": "gcE6xfAI9OUp",
        "colab_type": "code",
        "colab": {
          "base_uri": "https://localhost:8080/",
          "height": 265
        },
        "outputId": "be133db6-5fe2-44ac-b90e-a7be490b2cc1"
      },
      "source": [
        "# Display Image\n",
        "img_idx = 12\n",
        "def disp_img(img):\n",
        "  img_re = img.reshape((img_dep,img_wid))\n",
        "  plt.imshow(img_re)\n",
        "disp_img(image[img_idx])"
      ],
      "execution_count": null,
      "outputs": [
        {
          "output_type": "display_data",
          "data": {
            "image/png": "[encoded data removed]",
            "text/plain": [
              "<Figure size 432x288 with 1 Axes>"
            ]
          },
          "metadata": {
            "tags": [],
            "needs_background": "light"
          }
        }
      ]
    },
    {
      "cell_type": "code",
      "metadata": {
        "id": "7gwBqj1S96iR",
        "colab_type": "code",
        "colab": {}
      },
      "source": [
        "# Create Label or output column \n",
        "label_flat = df['label'].values.ravel()"
      ],
      "execution_count": null,
      "outputs": []
    },
    {
      "cell_type": "code",
      "metadata": {
        "id": "k6A4j-v3AlEw",
        "colab_type": "code",
        "colab": {
          "base_uri": "https://localhost:8080/",
          "height": 68
        },
        "outputId": "247d3776-c263-4d26-bac7-c99345c70ad1"
      },
      "source": [
        "label_flat[1:50]"
      ],
      "execution_count": null,
      "outputs": [
        {
          "output_type": "execute_result",
          "data": {
            "text/plain": [
              "array([0, 4, 1, 9, 2, 1, 3, 1, 4, 3, 5, 3, 6, 1, 7, 2, 8, 6, 9, 4, 0, 9,\n",
              "       1, 1, 2, 4, 3, 2, 7, 3, 8, 6, 9, 0, 5, 6, 0, 7, 6, 1, 8, 7, 9, 3,\n",
              "       9, 8, 5, 9, 3])"
            ]
          },
          "metadata": {
            "tags": []
          },
          "execution_count": 18
        }
      ]
    },
    {
      "cell_type": "code",
      "metadata": {
        "id": "J0wPh7tuAowA",
        "colab_type": "code",
        "colab": {
          "base_uri": "https://localhost:8080/",
          "height": 34
        },
        "outputId": "2ead2a18-9a14-4a1d-9d79-feb0c82c0fef"
      },
      "source": [
        "label_flat.shape"
      ],
      "execution_count": null,
      "outputs": [
        {
          "output_type": "execute_result",
          "data": {
            "text/plain": [
              "(60000,)"
            ]
          },
          "metadata": {
            "tags": []
          },
          "execution_count": 19
        }
      ]
    },
    {
      "cell_type": "code",
      "metadata": {
        "id": "-rrEfYK9AsZt",
        "colab_type": "code",
        "colab": {}
      },
      "source": [
        "label_count = np.unique(label_flat)\n",
        "numclass = len(label_count)"
      ],
      "execution_count": null,
      "outputs": []
    },
    {
      "cell_type": "code",
      "metadata": {
        "id": "nEjpunWmBLQ1",
        "colab_type": "code",
        "colab": {}
      },
      "source": [
        "# One Hot Encoding for the nominal category\n",
        "def dense_to_one_hot(label_flat,numclass):\n",
        "  count = label_flat.shape[0]\n",
        "  idx_offset = np.arange(count)* numclass\n",
        "  labels_ohe = np.zeros((count,numclass))\n",
        "  labels_ohe.flat[idx_offset + label_flat.ravel()] = 1\n",
        "  return labels_ohe"
      ],
      "execution_count": null,
      "outputs": []
    },
    {
      "cell_type": "code",
      "metadata": {
        "id": "78_p7zPRGAF-",
        "colab_type": "code",
        "colab": {}
      },
      "source": [
        "labels = dense_to_one_hot(label_flat,numclass)"
      ],
      "execution_count": null,
      "outputs": []
    },
    {
      "cell_type": "code",
      "metadata": {
        "id": "E_8dgCucJwPn",
        "colab_type": "code",
        "colab": {
          "base_uri": "https://localhost:8080/",
          "height": 34
        },
        "outputId": "a45a01e9-e06c-4eb9-826f-be25cd5cb0c0"
      },
      "source": [
        "labels.shape"
      ],
      "execution_count": null,
      "outputs": [
        {
          "output_type": "execute_result",
          "data": {
            "text/plain": [
              "(60000, 10)"
            ]
          },
          "metadata": {
            "tags": []
          },
          "execution_count": 23
        }
      ]
    },
    {
      "cell_type": "code",
      "metadata": {
        "id": "uy8dwf22J4xK",
        "colab_type": "code",
        "colab": {}
      },
      "source": [
        "# Split training data into training and validation"
      ],
      "execution_count": null,
      "outputs": []
    },
    {
      "cell_type": "code",
      "metadata": {
        "id": "RcJou3aRKgat",
        "colab_type": "code",
        "colab": {}
      },
      "source": [
        "val_img = image[:val_size]\n",
        "val_lab = labels[:val_size]"
      ],
      "execution_count": null,
      "outputs": []
    },
    {
      "cell_type": "code",
      "metadata": {
        "id": "pNvsxZ-PL-Iu",
        "colab_type": "code",
        "colab": {}
      },
      "source": [
        "train_img = image[val_size:]\n",
        "train_lab = labels[:val_size]"
      ],
      "execution_count": null,
      "outputs": []
    },
    {
      "cell_type": "code",
      "metadata": {
        "id": "cn7w1ni9MJ23",
        "colab_type": "code",
        "colab": {}
      },
      "source": [
        "# CNN Begins\n",
        "# Weight Initialisation\n",
        "def wt_init(shape):\n",
        "  initial = tf.truncated_normal(shape,stddev=0.1)\n",
        "  return tf.Variable(initial)"
      ],
      "execution_count": null,
      "outputs": []
    },
    {
      "cell_type": "code",
      "metadata": {
        "id": "_SKTJIcmN2-H",
        "colab_type": "code",
        "colab": {}
      },
      "source": [
        "def bias_var(shape):\n",
        "  initial = tf.constant(0.1,shape=shape)\n",
        "  return tf.Variable(initial)"
      ],
      "execution_count": null,
      "outputs": []
    },
    {
      "cell_type": "code",
      "metadata": {
        "id": "aMlPkCvyOQ11",
        "colab_type": "code",
        "colab": {}
      },
      "source": [
        "def conv2d(x,w):\n",
        "  return tf.nn.conv2d(x,w,strides=[1,1,1,1],padding='SAME')\n",
        "# stride = 1 : convolve one image at a time and not all, [1,1] : stride size square , 1 : convolve each channel at a time R,G, B, \n",
        "# padding = same means output or convolved image should have size as input so accordingly padding is done.\n"
      ],
      "execution_count": null,
      "outputs": []
    },
    {
      "cell_type": "code",
      "metadata": {
        "id": "MxeLZZ9xQQ33",
        "colab_type": "code",
        "colab": {}
      },
      "source": [
        "def max_pool(x):\n",
        "  return tf.nn.max_pool(x,ksize=[1,2,2,1],strides=[1,2,2,1],padding='SAME')\n"
      ],
      "execution_count": null,
      "outputs": []
    },
    {
      "cell_type": "code",
      "metadata": {
        "id": "sYAVhOWnWW8e",
        "colab_type": "code",
        "colab": {}
      },
      "source": [
        "import tensorflow as tf"
      ],
      "execution_count": null,
      "outputs": []
    },
    {
      "cell_type": "code",
      "metadata": {
        "id": "emLo-sK8TV7V",
        "colab_type": "code",
        "colab": {}
      },
      "source": [
        "x = tf.placeholder('float',shape = [None,image.shape[1]])\n",
        "y = tf.placeholder('float',shape = [None,numclass])\n",
        "W_conv1 = wt_init([5,5,1,32])\n",
        "b_conv1 = bias_var([32]) "
      ],
      "execution_count": null,
      "outputs": []
    },
    {
      "cell_type": "code",
      "metadata": {
        "id": "uNkNX8iTWM47",
        "colab_type": "code",
        "colab": {}
      },
      "source": [
        "img = tf.reshape(x,[-1,img_wid,img_dep,1])"
      ],
      "execution_count": null,
      "outputs": []
    },
    {
      "cell_type": "code",
      "metadata": {
        "id": "PgGAVTYbXY9e",
        "colab_type": "code",
        "colab": {
          "base_uri": "https://localhost:8080/",
          "height": 34
        },
        "outputId": "599ee609-fafc-44c1-fd5f-400c3972c7c3"
      },
      "source": [
        "img.get_shape"
      ],
      "execution_count": null,
      "outputs": [
        {
          "output_type": "execute_result",
          "data": {
            "text/plain": [
              "<bound method Tensor.get_shape of <tf.Tensor 'Reshape:0' shape=(?, 28, 28, 1) dtype=float32>>"
            ]
          },
          "metadata": {
            "tags": []
          },
          "execution_count": 39
        }
      ]
    },
    {
      "cell_type": "code",
      "metadata": {
        "id": "xTIoQzezYofa",
        "colab_type": "code",
        "colab": {
          "base_uri": "https://localhost:8080/",
          "height": 34
        },
        "outputId": "67366518-ad3c-452d-d63c-299616e545e3"
      },
      "source": [
        "W_conv1.shape"
      ],
      "execution_count": null,
      "outputs": [
        {
          "output_type": "execute_result",
          "data": {
            "text/plain": [
              "TensorShape([Dimension(5), Dimension(5), Dimension(1), Dimension(32)])"
            ]
          },
          "metadata": {
            "tags": []
          },
          "execution_count": 40
        }
      ]
    },
    {
      "cell_type": "code",
      "metadata": {
        "id": "t7uSjtibZzVX",
        "colab_type": "code",
        "colab": {}
      },
      "source": [
        "h_conv1 = tf.nn.relu(conv2d(img,W_conv1) + b_conv1)"
      ],
      "execution_count": null,
      "outputs": []
    },
    {
      "cell_type": "code",
      "metadata": {
        "id": "3YUUDCkyooXI",
        "colab_type": "code",
        "colab": {
          "base_uri": "https://localhost:8080/",
          "height": 34
        },
        "outputId": "062fca3a-3ced-4455-e506-1d18ef19ae24"
      },
      "source": [
        "h_conv1.get_shape"
      ],
      "execution_count": null,
      "outputs": [
        {
          "output_type": "execute_result",
          "data": {
            "text/plain": [
              "<bound method Tensor.get_shape of <tf.Tensor 'Relu:0' shape=(?, 28, 28, 32) dtype=float32>>"
            ]
          },
          "metadata": {
            "tags": []
          },
          "execution_count": 43
        }
      ]
    },
    {
      "cell_type": "code",
      "metadata": {
        "id": "RNcleKzKo9-G",
        "colab_type": "code",
        "colab": {}
      },
      "source": [
        "h_pool1 = max_pool(h_conv1)"
      ],
      "execution_count": null,
      "outputs": []
    },
    {
      "cell_type": "code",
      "metadata": {
        "id": "8Vfsqxb7pJaN",
        "colab_type": "code",
        "colab": {
          "base_uri": "https://localhost:8080/",
          "height": 34
        },
        "outputId": "41f22aae-5b72-48e9-f0ac-e98d8309e73d"
      },
      "source": [
        "h_pool1.get_shape"
      ],
      "execution_count": null,
      "outputs": [
        {
          "output_type": "execute_result",
          "data": {
            "text/plain": [
              "<bound method Tensor.get_shape of <tf.Tensor 'MaxPool:0' shape=(?, 14, 14, 32) dtype=float32>>"
            ]
          },
          "metadata": {
            "tags": []
          },
          "execution_count": 47
        }
      ]
    },
    {
      "cell_type": "code",
      "metadata": {
        "id": "cwMrFx6RpVik",
        "colab_type": "code",
        "colab": {}
      },
      "source": [
        "# 2nd Convolution layer and subsequent layers \n",
        "# Here we are going to depth of 64 instead of 32\n",
        "img = tf.reshape(x,[-1,img_wid,img_dep,32])\n",
        "W_conv2 = wt_init([5,5,32,64])\n",
        "b_conv2 = bias_var([64]) \n",
        "h_conv2 = tf.nn.relu(conv2d(img,W_conv2) + b_conv2)\n",
        "h_pool2 = max_pool(h_conv2)"
      ],
      "execution_count": null,
      "outputs": []
    },
    {
      "cell_type": "code",
      "metadata": {
        "id": "KefPu5FcqhK5",
        "colab_type": "code",
        "colab": {
          "base_uri": "https://localhost:8080/",
          "height": 34
        },
        "outputId": "941fee40-cab6-48e4-a1a8-2c8c44dcf2c0"
      },
      "source": [
        "h_conv2.get_shape"
      ],
      "execution_count": null,
      "outputs": [
        {
          "output_type": "execute_result",
          "data": {
            "text/plain": [
              "<bound method Tensor.get_shape of <tf.Tensor 'Relu_1:0' shape=(?, 28, 28, 64) dtype=float32>>"
            ]
          },
          "metadata": {
            "tags": []
          },
          "execution_count": 50
        }
      ]
    },
    {
      "cell_type": "code",
      "metadata": {
        "id": "grjZaOLvrSdu",
        "colab_type": "code",
        "colab": {
          "base_uri": "https://localhost:8080/",
          "height": 34
        },
        "outputId": "c7de72eb-cbed-47af-f713-c3ec03f2aa5c"
      },
      "source": [
        "h_pool2.get_shape"
      ],
      "execution_count": null,
      "outputs": [
        {
          "output_type": "execute_result",
          "data": {
            "text/plain": [
              "<bound method Tensor.get_shape of <tf.Tensor 'MaxPool_1:0' shape=(?, 14, 14, 64) dtype=float32>>"
            ]
          },
          "metadata": {
            "tags": []
          },
          "execution_count": 51
        }
      ]
    },
    {
      "cell_type": "code",
      "metadata": {
        "id": "q-Krn8nrrnnV",
        "colab_type": "code",
        "colab": {}
      },
      "source": [
        " # Bias is added only to scale the entire matrix so it is defined for each dimension or channel ( last dim.)\n",
        "# So if we have 5x5x1x32 input filter, it means we will have bias wrt to each of last dimension or 32 bias. For each 5x5x1 we have same bias."
      ],
      "execution_count": null,
      "outputs": []
    },
    {
      "cell_type": "code",
      "metadata": {
        "id": "qKdj4VZ3siv_",
        "colab_type": "code",
        "colab": {}
      },
      "source": [
        "# Dense Layer\n",
        "W_fc1 = wt_init([14*14*64,1024])\n",
        "b_fc1 = bias_var([1024])\n",
        "h_pool2_flat = tf.reshape(h_pool2,[-1,14*14*64])\n",
        "h_fc1 = tf.nn.relu(tf.matmul(h_pool2_flat,W_fc1) + b_fc1)\n"
      ],
      "execution_count": null,
      "outputs": []
    },
    {
      "cell_type": "code",
      "metadata": {
        "id": "lq2Hr4i5umFA",
        "colab_type": "code",
        "colab": {
          "base_uri": "https://localhost:8080/",
          "height": 34
        },
        "outputId": "fc62e606-89ff-4dcb-8be0-5c681834e1c0"
      },
      "source": [
        "h_fc1.get_shape"
      ],
      "execution_count": null,
      "outputs": [
        {
          "output_type": "execute_result",
          "data": {
            "text/plain": [
              "<bound method Tensor.get_shape of <tf.Tensor 'Relu_2:0' shape=(?, 1024) dtype=float32>>"
            ]
          },
          "metadata": {
            "tags": []
          },
          "execution_count": 58
        }
      ]
    },
    {
      "cell_type": "code",
      "metadata": {
        "id": "PpAlmaeLu_tj",
        "colab_type": "code",
        "colab": {}
      },
      "source": [
        "# Dropout - to remove complexity from the system \n",
        "keep_prob = tf.placeholder('float')\n",
        "h_fc1_drop = tf.nn.dropout(h_fc1,keep_prob)\n"
      ],
      "execution_count": null,
      "outputs": []
    },
    {
      "cell_type": "code",
      "metadata": {
        "id": "ZGHLyJgjv-ku",
        "colab_type": "code",
        "colab": {}
      },
      "source": [
        "# Final Layer\n",
        "W_fc2 = wt_init([1024,numclass])\n",
        "b_fc2 = bias_var([numclass])\n",
        "y = tf.nn.softmax(tf.matmul(h_fc1_drop,W_fc2) + b_fc2)"
      ],
      "execution_count": null,
      "outputs": []
    },
    {
      "cell_type": "code",
      "metadata": {
        "id": "QHKCt8vPxK3V",
        "colab_type": "code",
        "colab": {}
      },
      "source": [
        "# Log-loss cost function \n",
        "cross_entropy = tf.reduce_sum(y*tf.log(y))"
      ],
      "execution_count": null,
      "outputs": []
    },
    {
      "cell_type": "code",
      "metadata": {
        "id": "UzvbTRS9xrAp",
        "colab_type": "code",
        "colab": {}
      },
      "source": [
        "# Optimisation Function\n",
        "train_step = tf.train.AdamOptimizer(lr).minimize(cross_entropy)"
      ],
      "execution_count": null,
      "outputs": []
    },
    {
      "cell_type": "code",
      "metadata": {
        "id": "p3d93JgsyEG4",
        "colab_type": "code",
        "colab": {
          "base_uri": "https://localhost:8080/",
          "height": 88
        },
        "outputId": "3e5fb7db-85bd-4916-8d93-72500dec8cf9"
      },
      "source": [
        "# Tensorflow Session Initiate\n",
        "init = tf.initialize_all_variables()\n",
        "sess = tf.InteractiveSession()"
      ],
      "execution_count": null,
      "outputs": [
        {
          "output_type": "stream",
          "text": [
            "WARNING:tensorflow:From /usr/local/lib/python3.6/dist-packages/tensorflow/python/util/tf_should_use.py:107: initialize_all_variables (from tensorflow.python.ops.variables) is deprecated and will be removed after 2017-03-02.\n",
            "Instructions for updating:\n",
            "Use `tf.global_variables_initializer` instead.\n"
          ],
          "name": "stdout"
        }
      ]
    },
    {
      "cell_type": "code",
      "metadata": {
        "id": "BDS0_qEGzMmU",
        "colab_type": "code",
        "colab": {}
      },
      "source": [
        ""
      ],
      "execution_count": null,
      "outputs": []
    }
  ]
}